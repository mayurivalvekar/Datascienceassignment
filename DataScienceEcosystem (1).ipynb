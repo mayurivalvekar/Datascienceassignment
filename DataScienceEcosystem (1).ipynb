{
  "metadata": {
    "kernelspec": {
      "name": "python",
      "display_name": "Python (Pyodide)",
      "language": "python"
    },
    "language_info": {
      "codemirror_mode": {
        "name": "python",
        "version": 3
      },
      "file_extension": ".py",
      "mimetype": "text/x-python",
      "name": "python",
      "nbconvert_exporter": "python",
      "pygments_lexer": "ipython3",
      "version": "3.8"
    }
  },
  "nbformat_minor": 4,
  "nbformat": 4,
  "cells": [
    {
      "cell_type": "markdown",
      "source": "# Data Science Tools and Ecosystem",
      "metadata": {}
    },
    {
      "cell_type": "markdown",
      "source": "**In this notebook, Data Science Tools and Ecosystem are summarized.**\n\n**Objectives:**\n+ List the common open source developement tools used by Data scientists.\n+ List the common libraries used by Data scientists.\n+ List the popular languages used by Data scientists\n+ To understand the basic syntax for headings. creation of tables, ordered lists, unordered lists and arithmentiic expressions etc",
      "metadata": {}
    },
    {
      "cell_type": "markdown",
      "source": "*Some of the popular languages that Data Scientists use are:*\n  1. Python\n  2. R\n  3. SQL\n  4. JAVA\n  5. SCALA",
      "metadata": {}
    },
    {
      "cell_type": "markdown",
      "source": "*Some of the commonly used libraries used by Data Scientists include:*\n1. NumPy\n2. Matplotlib\n3. Pandas\n4. SciPy\n5. PyTorch",
      "metadata": {}
    },
    {
      "cell_type": "markdown",
      "source": "*Some of the commonly used Open source development tools used by Data Scientists include:+\n|Data Science Tools|\n|------------------|\n| Tensor Flow|\n| Apache Spark|\n| Scikit-learn|",
      "metadata": {}
    },
    {
      "cell_type": "markdown",
      "source": "### Below are a few examples of evaluating arithmetic expressions in Python",
      "metadata": {}
    },
    {
      "cell_type": "code",
      "source": "# This a simple arithmetic expression to mutiply then add integers.\n(3*4)+5",
      "metadata": {
        "trusted": true
      },
      "outputs": [
        {
          "execution_count": 10,
          "output_type": "execute_result",
          "data": {
            "text/plain": "17"
          },
          "metadata": {}
        }
      ],
      "execution_count": 10
    },
    {
      "cell_type": "code",
      "source": "# This will convert 200 minutes to hours by diving by 60\n200/60",
      "metadata": {
        "trusted": true
      },
      "outputs": [
        {
          "execution_count": 11,
          "output_type": "execute_result",
          "data": {
            "text/plain": "3.3333333333333335"
          },
          "metadata": {}
        }
      ],
      "execution_count": 11
    },
    {
      "cell_type": "markdown",
      "source": "## Author\nMayuri Valvekar",
      "metadata": {}
    },
    {
      "cell_type": "code",
      "source": "",
      "metadata": {
        "trusted": true
      },
      "outputs": [],
      "execution_count": null
    }
  ]
}